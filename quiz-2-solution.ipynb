{
  "nbformat": 4,
  "nbformat_minor": 0,
  "metadata": {
    "colab": {
      "provenance": [],
      "authorship_tag": "ABX9TyNkIttV24TAH2x7bONQ35z9"
    },
    "kernelspec": {
      "name": "python3",
      "display_name": "Python 3"
    },
    "language_info": {
      "name": "python"
    }
  },
  "cells": [
    {
      "cell_type": "markdown",
      "source": [
        "\n",
        "**Question 1:**\n",
        "\n",
        "Write a python program that takes a **string** as input from the user.\n",
        "The program will create two new strings, one for binary digits and one for\n",
        "nonbinary digits. Finally, the program will print those strings as well as will print the sum of the \n",
        "digits of each new string.\n",
        "\n",
        "**Sample input:**\n",
        "\n",
        "102103104\n",
        "\n",
        "**Sample Output:**\n",
        "\n",
        "new_binary_string: 101010\n",
        "\n",
        "sum_of_binary_digits: 3\n",
        "\n",
        "new_non_binary_string: 234\n",
        "\n",
        "sum_of_non_binary_digits: 9\n",
        "\n",
        "**Explanation:**\n",
        "\n",
        "The program will check each digit of the input string whether it is binary\n",
        "or not. binary digits are 101010 and nonbinary digits are 234 and print two new strings for binary\n",
        " and non binary digits. However, sum of binary digits are (1+0+1+0+1+0) = 3 and sum of non\n",
        "binary digits are (2+3+4) = 9 for this sample."
      ],
      "metadata": {
        "id": "ujTB3F3SR4M3"
      }
    },
    {
      "cell_type": "code",
      "execution_count": null,
      "metadata": {
        "id": "hE9BBuU5RvZD"
      },
      "outputs": [],
      "source": [
        "s = input()\n",
        "binary_string = \"\"\n",
        "non_binary_string = \"\"\n",
        "binary_sum = 0\n",
        "non_binary_sum = 0\n",
        "for i in s:\n",
        "  if(i==\"0\" or i==\"1\"):\n",
        "    binary_string = binary_string + i\n",
        "    binary_sum = binary_sum + int(i)\n",
        "  else:\n",
        "    non_binary_string = non_binary_string + i\n",
        "    non_binary_sum = non_binary_sum + int(i)\n",
        "print(\"new_binary_string:\",binary_string)\n",
        "print(\"sum_of_binary_digits:\",binary_sum)\n",
        "print(\"new_non_binary_string:\",non_binary_string)\n",
        "print(\"sum_of_non_binary_digits:\",non_binary_sum)"
      ]
    },
    {
      "cell_type": "markdown",
      "source": [
        "**[Question 2]** (Tracing)"
      ],
      "metadata": {
        "id": "nsBHFyxHSG0W"
      }
    },
    {
      "cell_type": "code",
      "source": [
        "x = 0\n",
        "y = 0\n",
        "sum = 0\n",
        "p = 0.0\n",
        "while (x < 10):\n",
        "    y = x // 3\n",
        "    while (y < x):\n",
        "        p = (x + 10.0) / 2\n",
        "        sum = (sum % 4) + x - y * 2 + int(p)\n",
        "        print(sum)\n",
        "        y = y + 3\n",
        "    if (x > 5):\n",
        "        x += 1\n",
        "    else:\n",
        "        x += 2\n",
        "print(x+y)\n",
        "\n"
      ],
      "metadata": {
        "colab": {
          "base_uri": "https://localhost:8080/"
        },
        "id": "wTKezVfTSH_B",
        "outputId": "d8ed22f8-c198-490c-fa7b-e82fa1004733"
      },
      "execution_count": 1,
      "outputs": [
        {
          "output_type": "stream",
          "name": "stdout",
          "text": [
            "8\n",
            "9\n",
            "11\n",
            "7\n",
            "14\n",
            "7\n",
            "16\n",
            "7\n",
            "15\n",
            "9\n",
            "19\n"
          ]
        }
      ]
    }
  ]
}